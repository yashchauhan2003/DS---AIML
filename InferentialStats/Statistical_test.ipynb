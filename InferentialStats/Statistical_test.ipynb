{
 "cells": [
  {
   "cell_type": "markdown",
   "id": "231bb543",
   "metadata": {},
   "source": [
    "### Statistical - Test\n",
    "Prepared by-\n",
    "\n",
    "    Name: Deepayan Thakur\n",
    "    Class: CS-K\n",
    "    System ID: 2022520080"
   ]
  },
  {
   "cell_type": "markdown",
   "id": "b00204f9",
   "metadata": {},
   "source": [
    "## 1. One-sample t-test\n",
    "\n",
    "The mass of a sample of N = 20 acorns from a forest subjected to acid rain from a coal power plant are \n",
    "\n",
    "    m = 8.8, 6.6, 9.5, 11.2, 10.2, 7.4, 8.0, 9.6, 9.9, 9.0, 7.6, 7.4, 10.4, 11.1, 8.5, 10.0, 11.6, 10.7, 10.3, and 7.0 g.\n",
    "\n",
    "Does this sample provide enough evidence (alpha = 0.05) to say that the average mass of all acorns is different from 10 g?"
   ]
  },
  {
   "cell_type": "code",
   "execution_count": 1,
   "id": "120853e3",
   "metadata": {},
   "outputs": [],
   "source": [
    "import numpy as np\n",
    "import pandas as pd\n",
    "import matplotlib.pyplot as plt\n",
    "import scipy.stats as stats"
   ]
  },
  {
   "cell_type": "code",
   "execution_count": 2,
   "id": "527d124f",
   "metadata": {
    "scrolled": true
   },
   "outputs": [
    {
     "name": "stdout",
     "output_type": "stream",
     "text": [
      "t-statistic: -2.2491611580763973\n",
      "p-value: 0.03655562279112415\n",
      "Reject the null hypothesis: The average mass of all acorns is different from 10 grams.\n"
     ]
    }
   ],
   "source": [
    "masses = [8.8, 6.6, 9.5, 11.2, 10.2, 7.4, 8.0, 9.6, 9.9, 9.0, 7.6, 7.4, 10.4, 11.1, 8.5, 10.0, 11.6, 10.7, 10.3, 7.0]\n",
    "\n",
    "population_mean = 10\n",
    "t_statistic, p_value = stats.ttest_1samp(masses, population_mean)\n",
    "alpha = 0.05\n",
    "\n",
    "print(f\"t-statistic: {t_statistic}\")\n",
    "print(f\"p-value: {p_value}\")\n",
    "\n",
    "if p_value < alpha:\n",
    "    print(\"Reject the null hypothesis: The average mass of all acorns is different from 10 grams.\")\n",
    "else:\n",
    "    print(\"Fail to reject the null hypothesis: There is not enough evidence to say that the average mass of all acorns is different from 10 grams.\")\n"
   ]
  },
  {
   "cell_type": "markdown",
   "id": "61df1589",
   "metadata": {},
   "source": [
    "## 2. Independent (unpaired) two-sample t-test\n",
    "\n",
    "The mass of \\(N_1 = 20\\) acorns from oak trees upwind from a coal power plant and \\(N_2 = 30\\) acorns from oak trees downwind from the same coal power plant are measured. Is the mass of acorns from trees downwind different from the ones from upwind at a significance level of 0.05? The sample sizes are not equal, but we will assume that the population variance for sample 1 and sample 2 are equal.\n",
    "\n",
    "**Sample upwind:**\n",
    "\n",
    "\\[ x_1 = [10.8, 10.0, 8.2, 9.9, 11.6, 10.1, 11.3, 10.3, 10.7, 9.7, 7.8, 9.6, 9.7, 11.6, 10.3, 9.8, 12.3, 11.0, 10.4, 10.4] \\]\n",
    "\n",
    "**Sample downwind:**\n",
    "\n",
    "\\[ x_2 = [7.8, 7.5, 9.5, 11.7, 8.1, 8.8, 8.8, 7.7, 9.7, 7.0, 9.0, 9.7, 11.3, 8.7, 8.8, 10.9, 10.3, 9.6, 8.4, 6.6, 7.2, 7.6, 11.5, 6.6, 8.6, 10.5, 8.4, 8.5, 10.2, 9.2] \\]\n"
   ]
  },
  {
   "cell_type": "code",
   "execution_count": 3,
   "id": "ba992673",
   "metadata": {},
   "outputs": [
    {
     "name": "stdout",
     "output_type": "stream",
     "text": [
      "t-statistic: 3.5981947686898033\n",
      "p-value: 0.0007560337478801464\n",
      "Reject the null hypothesis: There is a significant difference in the mass of acorns from trees downwind compared to upwind.\n"
     ]
    }
   ],
   "source": [
    "import numpy as np\n",
    "from scipy import stats\n",
    "\n",
    "upwind = [10.8, 10.0, 8.2, 9.9, 11.6, 10.1, 11.3, 10.3, 10.7, 9.7, 7.8, 9.6, 9.7, 11.6, 10.3, 9.8, 12.3, 11.0, 10.4, 10.4]\n",
    "downwind = [7.8, 7.5, 9.5, 11.7, 8.1, 8.8, 8.8, 7.7, 9.7, 7.0, 9.0, 9.7, 11.3, 8.7, 8.8, 10.9, 10.3, 9.6, 8.4, 6.6, 7.2, 7.6, 11.5, 6.6, 8.6, 10.5, 8.4, 8.5, 10.2, 9.2]\n",
    "\n",
    "t_statistic, p_value = stats.ttest_ind(upwind, downwind, equal_var=True)\n",
    "alpha = 0.05\n",
    "\n",
    "print(f\"t-statistic: {t_statistic}\")\n",
    "print(f\"p-value: {p_value}\")\n",
    "\n",
    "if p_value < alpha:\n",
    "    print(\"Reject the null hypothesis: There is a significant difference in the mass of acorns from trees downwind compared to upwind.\")\n",
    "else:\n",
    "    print(\"Fail to reject the null hypothesis: There is not enough evidence to say there is a significant difference in the mass of acorns from trees downwind compared to upwind.\")\n"
   ]
  },
  {
   "cell_type": "markdown",
   "id": "e1933459",
   "metadata": {},
   "source": [
    "## 3. ANOVA test\n",
    "The marks obtained by 5 randomly picked students in a Mathematics exam from three sections A, B, and C are as follows:\n",
    "\n",
    "    Marks of 5 randomly picked students from Section A A = [51, 45, 33, 45, 67]\n",
    "    Marks of 5 randomly picked students from Section B B = [23, 43, 23, 43, 45]\n",
    "    Marks of 5 randomly picked students from Section C C = [56, 76, 74, 87, 56]\n",
    "\n",
    "Does the sample provide enough evidence to say that the mean marks of students in the three sections are different?"
   ]
  },
  {
   "cell_type": "code",
   "execution_count": 4,
   "id": "7daba9a5",
   "metadata": {},
   "outputs": [
    {
     "name": "stdout",
     "output_type": "stream",
     "text": [
      "F-statistic: 9.747205503009463\n",
      "p-value: 0.0030597541434430556\n",
      "Reject the null hypothesis: There is a significant difference in the mean marks of students in the three sections.\n"
     ]
    }
   ],
   "source": [
    "section_A = [51, 45, 33, 45, 67]\n",
    "section_B = [23, 43, 23, 43, 45]\n",
    "section_C = [56, 76, 74, 87, 56]\n",
    "\n",
    "f_statistic, p_value = stats.f_oneway(section_A, section_B, section_C)\n",
    "\n",
    "alpha = 0.05\n",
    "\n",
    "print(f\"F-statistic: {f_statistic}\")\n",
    "print(f\"p-value: {p_value}\")\n",
    "\n",
    "if p_value < alpha:\n",
    "    print(\"Reject the null hypothesis: There is a significant difference in the mean marks of students in the three sections.\")\n",
    "else:\n",
    "    print(\"Fail to reject the null hypothesis: There is not enough evidence to say that the mean marks of students in the three sections are different.\")\n"
   ]
  }
 ],
 "metadata": {
  "kernelspec": {
   "display_name": "Python 3 (ipykernel)",
   "language": "python",
   "name": "python3"
  },
  "language_info": {
   "codemirror_mode": {
    "name": "ipython",
    "version": 3
   },
   "file_extension": ".py",
   "mimetype": "text/x-python",
   "name": "python",
   "nbconvert_exporter": "python",
   "pygments_lexer": "ipython3",
   "version": "3.11.4"
  }
 },
 "nbformat": 4,
 "nbformat_minor": 5
}
